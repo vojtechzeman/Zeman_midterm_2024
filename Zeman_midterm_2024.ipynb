{
 "cells": [
  {
   "cell_type": "markdown",
   "metadata": {},
   "source": [
    "PART 1:\n",
    "\n",
    "task 1:"
   ]
  },
  {
   "cell_type": "code",
   "execution_count": 11,
   "metadata": {},
   "outputs": [
    {
     "name": "stdout",
     "output_type": "stream",
     "text": [
      "No\n"
     ]
    }
   ],
   "source": [
    "import pandas as pd\n",
    "\n",
    "#import csv files\n",
    "AFL = pd.read_csv('AFL.csv')\n",
    "AVB = pd.read_csv('AVB.csv')\n",
    "BDX = pd.read_csv('BDX.csv')\n",
    "MCHP = pd.read_csv('MCHP.csv')\n",
    "RCL = pd.read_csv('RCL.csv')\n",
    "\n",
    "\n",
    "if not (AFL['Close'] != AFL['Adj Close']).any():\n",
    "        print(\"Yes, for AFL\")\n",
    "if not (AVB['Close'] != AVB['Adj Close']).any():\n",
    "        print(\"Yes, for AVB\")\n",
    "if not (BDX['Close'] != BDX['Adj Close']).any():\n",
    "        print(\"Yes, for BDX\")\n",
    "if not (MCHP['Close'] != MCHP['Adj Close']).any():\n",
    "        print(\"Yes, for MCHP\")\n",
    "if not (RCL['Close'] != RCL['Adj Close']).any():\n",
    "        print(\"Yes, for RCL\")\n",
    "else:\n",
    "        print(\"No\")\n",
    "\n"
   ]
  },
  {
   "cell_type": "markdown",
   "metadata": {},
   "source": [
    "task 2:"
   ]
  },
  {
   "cell_type": "code",
   "execution_count": 13,
   "metadata": {},
   "outputs": [
    {
     "name": "stdout",
     "output_type": "stream",
     "text": [
      "AFL highest price is: 70.30000305175781\n",
      "AFL lowest price is: 23.64750289916992\n",
      "AVB highest price is: 252.4274139404297\n",
      "AVB lowest price is: 110.25619506835938\n",
      "BDX highest price is: 273.56884765625\n",
      "BDX lowest price is: 189.19325256347656\n",
      "MCHP highest price is: 89.3499984741211\n",
      "MCHP lowest price is: 27.012880325317383\n",
      "RCL highest price is: 133.72264099121094\n",
      "RCL lowest price is: 22.32999992370605\n"
     ]
    }
   ],
   "source": [
    "max_AFL = AFL['Adj Close'].max()\n",
    "print(f\"AFL highest price is: {max_AFL}\")\n",
    "min_AFL = AFL['Adj Close'].min()\n",
    "print(f\"AFL lowest price is: {min_AFL}\")\n",
    "\n",
    "max_AVB = AVB['Adj Close'].max()\n",
    "print(f\"AVB highest price is: {max_AVB}\")\n",
    "min_AVB = AVB['Adj Close'].min()\n",
    "print(f\"AVB lowest price is: {min_AVB}\")\n",
    "\n",
    "max_BDX = BDX['Adj Close'].max()\n",
    "print(f\"BDX highest price is: {max_BDX}\")\n",
    "min_BDX = BDX['Adj Close'].min()\n",
    "print(f\"BDX lowest price is: {min_BDX}\")\n",
    "\n",
    "max_MCHP = MCHP['Adj Close'].max()\n",
    "print(f\"MCHP highest price is: {max_MCHP}\")\n",
    "min_MCHP = MCHP['Adj Close'].min()\n",
    "print(f\"MCHP lowest price is: {min_MCHP}\")\n",
    "\n",
    "max_RCL = RCL['Adj Close'].max()\n",
    "print(f\"RCL highest price is: {max_RCL}\")\n",
    "min_RCL = RCL['Adj Close'].min()\n",
    "print(f\"RCL lowest price is: {min_RCL}\")\n",
    "\n"
   ]
  },
  {
   "cell_type": "markdown",
   "metadata": {},
   "source": [
    "task 3:"
   ]
  },
  {
   "cell_type": "code",
   "execution_count": 16,
   "metadata": {},
   "outputs": [
    {
     "name": "stdout",
     "output_type": "stream",
     "text": [
      "AFL values: 3.1632575237046066, 4.252771842227114, 3.8465666984239486, 3.8347939474216735\n",
      "AVB values: 4.702806703844525, 5.531123737845272, 5.184458004558699, 5.175069482227483\n",
      "BDX values: 5.452626529038073, 5.449366736637706, 5.449366736637706, 5.452626529038073\n",
      "MCHP values: 3.2963138013384183, 4.492561224527889, 4.000697014264594, 3.9093179340036053\n",
      "RCL values: 3.1059310624354097, 4.895767811515488, 4.471153430709876, 4.476768436484785\n"
     ]
    }
   ],
   "source": [
    "import math\n",
    "\n",
    "number = 10\n",
    "logarithm = math.log(number)\n",
    "\n",
    "mean_AFL = AFL['Adj Close'].mean()\n",
    "median_AFL = AFL['Adj Close'].median()\n",
    "print(f\"AFL values: {math.log(min_AFL)}, {math.log(max_AFL)}, {math.log(mean_AFL)}, {math.log(median_AFL)}\")\n",
    "\n",
    "mean_AVB = AVB['Adj Close'].mean()\n",
    "median_AVB = AVB['Adj Close'].median()\n",
    "print(f\"AVB values: {math.log(min_AVB)}, {math.log(max_AVB)}, {math.log(mean_AVB)}, {math.log(median_AVB)}\")\n",
    "\n",
    "mean_BDX = BDX['Adj Close'].mean()\n",
    "median_BDX = BDX['Adj Close'].median()\n",
    "print(f\"BDX values: {math.log(min_BDX)}, {math.log(max_BDX)}, {math.log(mean_BDX)}, {math.log(median_BDX)}\")\n",
    "\n",
    "mean_MCHP = MCHP['Adj Close'].mean()\n",
    "median_MCHP = MCHP['Adj Close'].median()\n",
    "print(f\"MCHP values: {math.log(min_MCHP)}, {math.log(max_MCHP)}, {math.log(mean_MCHP)}, {math.log(median_MCHP)}\")\n",
    "\n",
    "mean_RCL = RCL['Adj Close'].mean()\n",
    "median_RCL = RCL['Adj Close'].median()\n",
    "print(f\"RCL values: {math.log(min_RCL)}, {math.log(max_RCL)}, {math.log(mean_RCL)}, {math.log(median_RCL)}\")\n",
    "\n",
    "\n"
   ]
  },
  {
   "cell_type": "markdown",
   "metadata": {},
   "source": [
    "task 4:"
   ]
  },
  {
   "cell_type": "code",
   "execution_count": 18,
   "metadata": {},
   "outputs": [
    {
     "ename": "TypeError",
     "evalue": "cannot convert the series to <class 'float'>",
     "output_type": "error",
     "traceback": [
      "\u001b[0;31m---------------------------------------------------------------------------\u001b[0m",
      "\u001b[0;31mTypeError\u001b[0m                                 Traceback (most recent call last)",
      "Cell \u001b[0;32mIn[18], line 1\u001b[0m\n\u001b[0;32m----> 1\u001b[0m AFL[\u001b[38;5;124m'\u001b[39m\u001b[38;5;124mDifference\u001b[39m\u001b[38;5;124m'\u001b[39m] \u001b[38;5;241m=\u001b[39m (math\u001b[38;5;241m.\u001b[39mlog(AFL[\u001b[38;5;124m'\u001b[39m\u001b[38;5;124mAdj Close\u001b[39m\u001b[38;5;124m'\u001b[39m]) \u001b[38;5;241m-\u001b[39m math\u001b[38;5;241m.\u001b[39mlog(AFL[\u001b[38;5;124m'\u001b[39m\u001b[38;5;124mAdj Close\u001b[39m\u001b[38;5;124m'\u001b[39m]\u001b[38;5;241m.\u001b[39mshift(\u001b[38;5;241m1\u001b[39m)))\n\u001b[1;32m      2\u001b[0m max_loss_AFL \u001b[38;5;241m=\u001b[39m AFL[\u001b[38;5;124m'\u001b[39m\u001b[38;5;124mDifference\u001b[39m\u001b[38;5;124m'\u001b[39m]\u001b[38;5;241m.\u001b[39mmax()\n",
      "File \u001b[0;32m~/anaconda3/lib/python3.11/site-packages/pandas/core/series.py:230\u001b[0m, in \u001b[0;36m_coerce_method.<locals>.wrapper\u001b[0;34m(self)\u001b[0m\n\u001b[1;32m    222\u001b[0m     warnings\u001b[38;5;241m.\u001b[39mwarn(\n\u001b[1;32m    223\u001b[0m         \u001b[38;5;124mf\u001b[39m\u001b[38;5;124m\"\u001b[39m\u001b[38;5;124mCalling \u001b[39m\u001b[38;5;132;01m{\u001b[39;00mconverter\u001b[38;5;241m.\u001b[39m\u001b[38;5;18m__name__\u001b[39m\u001b[38;5;132;01m}\u001b[39;00m\u001b[38;5;124m on a single element Series is \u001b[39m\u001b[38;5;124m\"\u001b[39m\n\u001b[1;32m    224\u001b[0m         \u001b[38;5;124m\"\u001b[39m\u001b[38;5;124mdeprecated and will raise a TypeError in the future. \u001b[39m\u001b[38;5;124m\"\u001b[39m\n\u001b[0;32m   (...)\u001b[0m\n\u001b[1;32m    227\u001b[0m         stacklevel\u001b[38;5;241m=\u001b[39mfind_stack_level(),\n\u001b[1;32m    228\u001b[0m     )\n\u001b[1;32m    229\u001b[0m     \u001b[38;5;28;01mreturn\u001b[39;00m converter(\u001b[38;5;28mself\u001b[39m\u001b[38;5;241m.\u001b[39miloc[\u001b[38;5;241m0\u001b[39m])\n\u001b[0;32m--> 230\u001b[0m \u001b[38;5;28;01mraise\u001b[39;00m \u001b[38;5;167;01mTypeError\u001b[39;00m(\u001b[38;5;124mf\u001b[39m\u001b[38;5;124m\"\u001b[39m\u001b[38;5;124mcannot convert the series to \u001b[39m\u001b[38;5;132;01m{\u001b[39;00mconverter\u001b[38;5;132;01m}\u001b[39;00m\u001b[38;5;124m\"\u001b[39m)\n",
      "\u001b[0;31mTypeError\u001b[0m: cannot convert the series to <class 'float'>"
     ]
    }
   ],
   "source": [
    "\n",
    "\n",
    "AFL['Difference'] = (math.log(AFL['Adj Close']) - math.log(AFL['Adj Close'].shift(1)))\n",
    "max_loss_AFL = AFL['Difference'].max()\n",
    "\n",
    "    "
   ]
  }
 ],
 "metadata": {
  "kernelspec": {
   "display_name": "base",
   "language": "python",
   "name": "python3"
  },
  "language_info": {
   "codemirror_mode": {
    "name": "ipython",
    "version": 3
   },
   "file_extension": ".py",
   "mimetype": "text/x-python",
   "name": "python",
   "nbconvert_exporter": "python",
   "pygments_lexer": "ipython3",
   "version": "3.11.5"
  }
 },
 "nbformat": 4,
 "nbformat_minor": 2
}
